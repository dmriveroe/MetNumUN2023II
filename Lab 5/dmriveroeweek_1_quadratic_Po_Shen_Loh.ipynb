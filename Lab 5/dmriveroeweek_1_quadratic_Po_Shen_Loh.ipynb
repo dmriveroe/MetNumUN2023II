{
  "cells": [
    {
      "cell_type": "markdown",
      "metadata": {
        "id": "view-in-github"
      },
      "source": [
        "<a href=\"https://colab.research.google.com/drive/1KFQLJ9y7IsTis3oAnsfHk0jy8KdX3RaX?usp=sharing\" target=\"_parent\"><img src=\"https://colab.research.google.com/assets/colab-badge.svg\" alt=\"Open In\n",
        "Colab\"/></a>"
      ]
    },
    {
      "cell_type": "markdown",
      "metadata": {
        "id": "R1JjZ592UF-K"
      },
      "source": [
        "## Quadratic equation  $a x^2 + b x + c = 0$\n",
        "\n",
        "$$ x_1,x_2 = \\frac{-b \\pm \\sqrt{b^2-4ac}}{2a}$$\n",
        "\n",
        "Are the same root (zeros) of\n",
        "\n",
        "$$x^2 + \\frac{b}{a} x + \\frac{c}{a} = 0$$"
      ]
    },
    {
      "cell_type": "code",
      "execution_count": null,
      "metadata": {
        "colab": {
          "base_uri": "https://localhost:8080/",
          "height": 265
        },
        "id": "SxD-No_oUDzB",
        "outputId": "2a09042b-d13c-4471-ec11-67533864d4fd"
      },
      "outputs": [
        {
          "data": {
            "image/png": "[encoded data removed]",
            "text/plain": [
              "<Figure size 640x480 with 1 Axes>"
            ]
          },
          "metadata": {},
          "output_type": "display_data"
        }
      ],
      "source": [
        "import numpy as np\n",
        "import matplotlib.pyplot as plt\n",
        "\n",
        "def quadratic(a,b,c,x):\n",
        "    return a*x**2+b*x+c\n",
        "\n",
        "def quadraticeqiv(a,b,c,x):\n",
        "    return x**2+(b/a)*x+(c/a)\n",
        "\n",
        "\n",
        "x = np.arange(-3.5, 2, 0.001)\n",
        "z = np.zeros(len(x))\n",
        "y = quadratic(2,3,-2,x)\n",
        "ynew = quadraticeqiv(2,3,-2,x)\n",
        "plt.plot(x, y, x, ynew, x,z)\n",
        "plt.show()"
      ]
    },
    {
      "cell_type": "markdown",
      "metadata": {
        "id": "5Mj2AvtnTyys"
      },
      "source": [
        "## Solve a quadratic equation, $x^2 + b x + c = 0$.\n",
        "\n",
        "\n",
        "Write a function which receives $b$ and $c$, the coefficients of a monic quadratic polynomial, $x^2 + b x + c$, and returns the pair of its roots. Your function should always return two roots first $ \\frac{-b + \\sqrt{b^2-4ac}}{2a}$ and next $\\frac{-b - \\sqrt{b^2-4ac}}{2a}$  even if quadratic has a double root.\n",
        "\n",
        "For example, given a quadratic $x^2 + 4x + 3$, your function should return a pair of $(-3.0, -1.0)$. Of course, in floating point, your answers may differ from an exact unity.\n",
        "\n",
        "Your function also must correctly handle complex roots (to this end, you might need the `math` module from the standard library and `complex` to built complex numbers)."
      ]
    },
    {
      "cell_type": "code",
      "execution_count": null,
      "metadata": {
        "id": "cC1VlR0iTyAM"
      },
      "outputs": [],
      "source": [
        "import math\n",
        "\n",
        "def sgn(x):\n",
        "    \"\"\"Sign function\"\"\"\n",
        "    return (x > 0) - (x < 0)\n",
        "\n",
        "def solve_quad(b, c):\n",
        "    \"\"\"Solve a quadratic equation using the stable quadratic formula.\n",
        "\n",
        "    Parameters\n",
        "    ----------\n",
        "    b, c : float\n",
        "       Coefficients\n",
        "\n",
        "    Returns\n",
        "    -------\n",
        "    x1, x2 : float or complex\n",
        "       Roots.\n",
        "    \"\"\"\n",
        "\n",
        "    discriminant = b ** 2 - 4 * c\n",
        "\n",
        "    if discriminant > 0:\n",
        "        x1 = (-b - sgn(b) * math.sqrt(discriminant)) / 2\n",
        "        x2 = c / x1\n",
        "    elif discriminant == 0:\n",
        "        x1 = x2 = -b / 2\n",
        "    else:\n",
        "        realPart = -b / 2\n",
        "        imaginaryPart = math.sqrt(-discriminant) / 2\n",
        "        x1 = complex(realPart, imaginaryPart)\n",
        "        x2 = complex(realPart, -imaginaryPart)\n",
        "\n",
        "    return x1, x2"
      ]
    },
    {
      "cell_type": "markdown",
      "metadata": {
        "id": "DtLraQJFVwpc"
      },
      "source": [
        "Test the your function on several examples against a calculation by hand. Once you're sure that your function works, try these five test cases below.\n",
        "\n",
        "Note that the last two test cases are special: they test whether your function handles extreme cases where a too simple approach is prone to a catastrophic cancellation. Make sure your function passes all five tests.\n",
        "\n",
        "This exercise is graded, each test case contributes a 20% of the grade"
      ]
    },
    {
      "cell_type": "code",
      "execution_count": null,
      "metadata": {
        "id": "HuWJU41fV1Ny"
      },
      "outputs": [],
      "source": [
        "from numpy import allclose"
      ]
    },
    {
      "cell_type": "code",
      "execution_count": null,
      "metadata": {
        "id": "G82jYtUyV13S"
      },
      "outputs": [],
      "source": [
        "variants = [{'b': 4.0, 'c': 3.0},\n",
        "            {'b': 2.0, 'c': 1.0},\n",
        "            {'b': 0.5, 'c': 4.0},\n",
        "            {'b': 1e10, 'c': 3.0},\n",
        "            {'b': -1e10, 'c': 4.0},]"
      ]
    },
    {
      "cell_type": "code",
      "execution_count": null,
      "metadata": {
        "colab": {
          "base_uri": "https://localhost:8080/"
        },
        "id": "2EzkqR_QV36D",
        "outputId": "3dda32aa-2b61-4e1c-f27e-5dc1b2caf499"
      },
      "outputs": [
        {
          "name": "stdout",
          "output_type": "stream",
          "text": [
            "True\n",
            "True\n",
            "True\n",
            "True\n",
            "True\n"
          ]
        }
      ],
      "source": [
        "for var in variants:\n",
        "    x1, x2 = solve_quad(**var)\n",
        "    print(allclose(x1*x2, var['c']))"
      ]
    },
    {
      "cell_type": "code",
      "execution_count": null,
      "metadata": {
        "colab": {
          "base_uri": "https://localhost:8080/"
        },
        "id": "8HLE3pdnWG_z",
        "outputId": "8754cb34-74c7-47fc-9b96-c745f6ac84c2"
      },
      "outputs": [
        {
          "name": "stdout",
          "output_type": "stream",
          "text": [
            "solve_quad(4.0,3.0) (-3.0, -1.0)\n",
            "solve_quad(2.0,1.0) (-1.0, -1.0)\n",
            "solve_quad(0.5,4.0) ((-0.25+1.984313483298443j), (-0.25-1.984313483298443j))\n",
            "solve_quad(10000000000.0,3.0) (-10000000000.0, -3e-10)\n",
            "solve_quad(-10000000000.0,4.0) (10000000000.0, 4e-10)\n"
          ]
        }
      ],
      "source": [
        "for var in variants:\n",
        "    x1, x2 = solve_quad(**var)\n",
        "    print(\"solve_quad(\"+str(var['b'])+\",\"+str(var['c'])+\")\",solve_quad(**var) )"
      ]
    },
    {
      "cell_type": "markdown",
      "metadata": {
        "id": "33dZJJaPgapL"
      },
      "source": [
        "## Analytic solutions with sympy solveset."
      ]
    },
    {
      "cell_type": "code",
      "execution_count": null,
      "metadata": {
        "colab": {
          "base_uri": "https://localhost:8080/",
          "height": 37
        },
        "id": "hDNLnEhceHJU",
        "outputId": "736e1da4-0729-463b-b647-8474020f08ca"
      },
      "outputs": [
        {
          "data": {
            "text/latex": [
              "$\\displaystyle \\left\\{-3, -1\\right\\}$"
            ],
            "text/plain": [
              "{-3, -1}"
            ]
          },
          "execution_count": 13,
          "metadata": {},
          "output_type": "execute_result"
        }
      ],
      "source": [
        "from sympy import Symbol, solveset, Eq, Rational\n",
        "x = Symbol('x')\n",
        "solveset(Eq(x**2 + 4*x + 3, 0), x)"
      ]
    },
    {
      "cell_type": "code",
      "execution_count": null,
      "metadata": {
        "colab": {
          "base_uri": "https://localhost:8080/",
          "height": 37
        },
        "id": "fsR9jpplfPqb",
        "outputId": "91f5b88b-00f9-448d-f3aa-7468fcb732b8"
      },
      "outputs": [
        {
          "data": {
            "text/latex": [
              "$\\displaystyle \\left\\{-1\\right\\}$"
            ],
            "text/plain": [
              "{-1}"
            ]
          },
          "execution_count": 14,
          "metadata": {},
          "output_type": "execute_result"
        }
      ],
      "source": [
        "solveset(Eq(x**2 + 2*x + 1, 0), x)"
      ]
    },
    {
      "cell_type": "code",
      "execution_count": null,
      "metadata": {
        "colab": {
          "base_uri": "https://localhost:8080/",
          "height": 68
        },
        "id": "owasE6zrgBLc",
        "outputId": "22929999-3f65-41b0-cd89-e84db4295405"
      },
      "outputs": [
        {
          "data": {
            "text/latex": [
              "$\\displaystyle \\left\\{- \\frac{1}{4} - \\frac{\\sqrt{15} i}{4}, - \\frac{1}{4} + \\frac{\\sqrt{15} i}{4}\\right\\}$"
            ],
            "text/plain": [
              "{-1/4 - sqrt(15)*I/4, -1/4 + sqrt(15)*I/4}"
            ]
          },
          "execution_count": 15,
          "metadata": {},
          "output_type": "execute_result"
        }
      ],
      "source": [
        "solveset(Eq(x**2 + Rational(1,2)*x + 1, 0), x)"
      ]
    },
    {
      "cell_type": "code",
      "execution_count": null,
      "metadata": {
        "colab": {
          "base_uri": "https://localhost:8080/",
          "height": 47
        },
        "id": "rOagaA89e1SE",
        "outputId": "61f8de6c-d286-49ed-de2f-563f2e4126be"
      },
      "outputs": [
        {
          "data": {
            "text/latex": [
              "$\\displaystyle \\left\\{-5000000000 - \\sqrt{24999999999999999997}, -5000000000 + \\sqrt{24999999999999999997}\\right\\}$"
            ],
            "text/plain": [
              "{-5000000000 - sqrt(24999999999999999997), -5000000000 + sqrt(24999999999999999997)}"
            ]
          },
          "execution_count": 16,
          "metadata": {},
          "output_type": "execute_result"
        }
      ],
      "source": [
        "solveset(Eq(x**2 + 10000000000*x + 3, 0), x)"
      ]
    },
    {
      "cell_type": "code",
      "execution_count": null,
      "metadata": {
        "colab": {
          "base_uri": "https://localhost:8080/",
          "height": 47
        },
        "id": "QROcdwRJexu7",
        "outputId": "ccc09e45-9d5e-46c7-cc93-38697ca82db8"
      },
      "outputs": [
        {
          "data": {
            "text/latex": [
              "$\\displaystyle \\left\\{5000000000 - 2 \\sqrt{6249999999999999999}, 5000000000 + 2 \\sqrt{6249999999999999999}\\right\\}$"
            ],
            "text/plain": [
              "{5000000000 - 2*sqrt(6249999999999999999), 5000000000 + 2*sqrt(6249999999999999999)}"
            ]
          },
          "execution_count": 17,
          "metadata": {},
          "output_type": "execute_result"
        }
      ],
      "source": [
        "solveset(Eq(x**2 - 10000000000*x + 4, 0), x)"
      ]
    },
    {
      "cell_type": "markdown",
      "metadata": {
        "id": "zOj_mh6SrPkk"
      },
      "source": [
        "\n",
        "## Po-Shen Loh method to solve the quadratic equation $x^2 + b x + c = 0$\n",
        "\n",
        "https://youtu.be/ZBalWWHYFQc\n",
        "\n",
        "![hoShenLo.png](https://raw.githubusercontent.com/gjhernandezp/NM/main/Computer%20Arithmetic/PhoShenLo.png)\n",
        "\n",
        "\n",
        "\n",
        "\n",
        "\n",
        "\n"
      ]
    },
    {
      "cell_type": "markdown",
      "metadata": {
        "id": "P2R4Kb2kaHzD"
      },
      "source": [
        "## Solve a quadratic equation, $x^2 + b x + c = 0$ using the Po-Shen Loh\n",
        "\n",
        "$$ x^2 + b x + c =  (x + x_1) (x  + x_2) = (x  - (-x_1)) (x  - (-x_2)) $$\n",
        "with\n",
        "$$ x_1 + x_2 = b$$\n",
        "and\n",
        "$$ x_1 * x_2 = c$$\n",
        "\n",
        "$$ x_1 = \\frac{b}{2} - u$$\n",
        "$$ x_2 = \\frac{b}{2} + u$$\n",
        "\n",
        "$$  c = x_1 x_2  = \\left (\\frac{b}{2}\\right)^2 -  u^2$$\n",
        "\n",
        "$$  u = \\sqrt {\\left(\\frac{b}{2}\\right)^2 -  c} $$\n",
        "\n",
        "Roots are\n",
        "\n",
        "$$ - x_1 = -\\left(\\frac{b}{2} - u\\right)$$\n",
        "$$ - x_2 = -\\left(\\frac{b}{2} + u\\right)$$\n",
        "\n",
        "\n",
        "\n",
        "\n",
        "Write a function which receives $b$ and $c$, the coefficients of a monic quadratic polynomial, $x^2 + b x + c$, and returns $u$ form the Po-Shen Loh method and the pair of its roots. Your function should always return three values first $ \\frac{-b - \\sqrt{b^2-4ac}}{2a}$ and next $\\frac{-b + \\sqrt{b^2-4ac}}{2a}$  even if quadratic has a double root.\n",
        "\n",
        "For example, given a quadratic $x^2 - 2x + 1$, your function should return  $(0j, (1+0j), (1+0j))$. Of course, in floating point, your answers may differ from an exact unity.\n",
        "\n",
        "Your function also must correctly handle complex roots (to this end, you might need the `cmath` module from the standard library) and if  `b**2-(4*c) == b**2` because floting-point limitations should return $u$ equal to $-1$\n",
        "\n",
        "\n",
        "\n"
      ]
    },
    {
      "cell_type": "code",
      "execution_count": null,
      "metadata": {
        "id": "GxQXT4W5ldqs"
      },
      "outputs": [],
      "source": [
        "import cmath\n",
        "\n",
        "def solve_quad_Po_Shen_Loh(b, c):\n",
        "    \"\"\"Refined version of solve_quad_Po_Shen_Loh to handle edge cases better.\n",
        "\n",
        "    Parameters\n",
        "    ----------\n",
        "    b, c : float\n",
        "       Coefficients\n",
        "\n",
        "    Returns\n",
        "    -------\n",
        "    u : The distance from b/2 to x1 and x2 or -1 if floating-point limitations\n",
        "    x1, x2 : float or complex\n",
        "       Roots.\n",
        "    \"\"\"\n",
        "\n",
        "    discriminant = b**2 - 4 * c\n",
        "\n",
        "    if abs(discriminant - b**2) < 1e-10:\n",
        "        u = -1\n",
        "        x1 = -b\n",
        "        x2 = -c / b\n",
        "    else:\n",
        "        u = cmath.sqrt((b / 2)**2 - c)\n",
        "\n",
        "        x1 = - (b / 2 - u)\n",
        "        x2 = - (b / 2 + u)\n",
        "\n",
        "    return u, x1, x2"
      ]
    },
    {
      "cell_type": "markdown",
      "metadata": {
        "id": "XA1yEMI-rz8I"
      },
      "source": [
        "Test the your function on several examples against a calculation by hand. Once you're sure that your function works, try these five test cases below.\n",
        "\n",
        "Note that the last two test cases are special: they test whether your function handles extreme cases where a too simple approach is prone to a catastrophic cancellation. Make sure your function passes all five tests.\n",
        "\n",
        "This exercise is graded, each test case contributes a 20% of the grade."
      ]
    },
    {
      "cell_type": "code",
      "execution_count": null,
      "metadata": {
        "id": "rB96llJzm8zt"
      },
      "outputs": [],
      "source": [
        "from numpy import allclose"
      ]
    },
    {
      "cell_type": "code",
      "execution_count": null,
      "metadata": {
        "collapsed": true,
        "id": "A--UYkmlrz8J"
      },
      "outputs": [],
      "source": [
        "variants = [{'b': 4.0, 'c': 3.0},\n",
        "            {'b': 2.0, 'c': 1.0},\n",
        "            {'b': 0.5, 'c': 4.0},\n",
        "            {'b': 1e10, 'c': 3.0},\n",
        "            {'b': -1e10, 'c': 4.0},]"
      ]
    },
    {
      "cell_type": "code",
      "execution_count": null,
      "metadata": {
        "colab": {
          "base_uri": "https://localhost:8080/"
        },
        "id": "TpSM9Zh9rz8K",
        "outputId": "3faf738a-d22b-4394-d1c4-aa8aefadeb49"
      },
      "outputs": [
        {
          "name": "stdout",
          "output_type": "stream",
          "text": [
            "True\n",
            "True\n",
            "True\n",
            "True\n",
            "True\n"
          ]
        }
      ],
      "source": [
        "for var in variants:\n",
        "    u, x1, x2 = solve_quad_Po_Shen_Loh(**var)\n",
        "    print(allclose(x1*x2, var['c']))"
      ]
    },
    {
      "cell_type": "code",
      "execution_count": null,
      "metadata": {
        "colab": {
          "base_uri": "https://localhost:8080/"
        },
        "id": "4Zh88PhlMfGC",
        "outputId": "f06333f4-c5e3-4653-f200-cbcba2a91112"
      },
      "outputs": [
        {
          "name": "stdout",
          "output_type": "stream",
          "text": [
            "solve_quad_Po_Shen_Loh(4.0,3.0) ((1+0j), (-1-0j), (-3-0j))\n",
            "solve_quad_Po_Shen_Loh(2.0,1.0) (0j, (-1-0j), (-1-0j))\n",
            "solve_quad_Po_Shen_Loh(0.5,4.0) (1.984313483298443j, (-0.25+1.984313483298443j), (-0.25-1.984313483298443j))\n",
            "solve_quad_Po_Shen_Loh(10000000000.0,3.0) (-1, -10000000000.0, -3e-10)\n",
            "solve_quad_Po_Shen_Loh(-10000000000.0,4.0) (-1, 10000000000.0, 4e-10)\n"
          ]
        }
      ],
      "source": [
        "for var in variants:\n",
        "    u, x1, x2 = solve_quad_Po_Shen_Loh(**var)\n",
        "    print(\"solve_quad_Po_Shen_Loh(\"+str(var['b'])+\",\"+str(var['c'])+\")\",solve_quad_Po_Shen_Loh(**var) )"
      ]
    }
  ],
  "metadata": {
    "colab": {
      "provenance": []
    },
    "kernelspec": {
      "display_name": "Python 3",
      "language": "python",
      "name": "python3"
    },
    "language_info": {
      "codemirror_mode": {
        "name": "ipython",
        "version": 3
      },
      "file_extension": ".py",
      "mimetype": "text/x-python",
      "name": "python",
      "nbconvert_exporter": "python",
      "pygments_lexer": "ipython3",
      "version": "3.10.9"
    }
  },
  "nbformat": 4,
  "nbformat_minor": 0
}